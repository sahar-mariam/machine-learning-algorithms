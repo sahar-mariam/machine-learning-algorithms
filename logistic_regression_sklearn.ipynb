{
  "nbformat": 4,
  "nbformat_minor": 0,
  "metadata": {
    "colab": {
      "provenance": [],
      "authorship_tag": "ABX9TyP6/Rd5HcF008hacJ+kf8uy",
      "include_colab_link": true
    },
    "kernelspec": {
      "name": "python3",
      "display_name": "Python 3"
    },
    "language_info": {
      "name": "python"
    }
  },
  "cells": [
    {
      "cell_type": "markdown",
      "metadata": {
        "id": "view-in-github",
        "colab_type": "text"
      },
      "source": [
        "<a href=\"https://colab.research.google.com/github/sahar-mariam/marvel-level-1-report/blob/main/logistic_regression_sklearn.ipynb\" target=\"_parent\"><img src=\"https://colab.research.google.com/assets/colab-badge.svg\" alt=\"Open In Colab\"/></a>"
      ]
    },
    {
      "cell_type": "code",
      "source": [
        "import numpy\n",
        "from sklearn import linear_model\n",
        "\n",
        "X = numpy.array([3.78, 2.44, 2.09, 0.14, 1.72, 1.65, 4.92, 4.37, 4.96, 4.52, 3.69, 5.88]).reshape(-1,1)\n",
        "y = numpy.array([0, 0, 0, 0, 0, 0, 1, 1, 1, 1, 1, 1])\n",
        "\n",
        "logr = linear_model.LogisticRegression()\n",
        "logr.fit(X,y)\n",
        "\n",
        "#predict if tumor is cancerous where the size is 3.46mm:\n",
        "predicted = logr.predict(numpy.array([3.46]).reshape(-1,1))\n",
        "\n",
        "print(predicted)\n"
      ],
      "metadata": {
        "colab": {
          "base_uri": "https://localhost:8080/"
        },
        "id": "_6x-k5o9M65y",
        "outputId": "ac051db6-670b-447a-8c75-28c5b181292b"
      },
      "execution_count": 1,
      "outputs": [
        {
          "output_type": "stream",
          "name": "stdout",
          "text": [
            "[0]\n"
          ]
        }
      ]
    },
    {
      "cell_type": "markdown",
      "source": [
        "We have predicted that a tumor with a size of 3.46mm will not be cancerous(from the output)"
      ],
      "metadata": {
        "id": "xOGdr3LHNS4s"
      }
    },
    {
      "cell_type": "code",
      "source": [
        "log_odds = logr.coef_\n",
        "odds = numpy.exp(log_odds)\n",
        "\n",
        "print(odds)\n",
        "\n",
        "#This tells us that as the size of a tumor increases by 1mm the odds of it being a cancerous tumor increases by 4x."
      ],
      "metadata": {
        "colab": {
          "base_uri": "https://localhost:8080/"
        },
        "id": "SafJInuHNaei",
        "outputId": "2e29e4e8-9bef-4725-e7b1-18ee2a5576cd"
      },
      "execution_count": 2,
      "outputs": [
        {
          "output_type": "stream",
          "name": "stdout",
          "text": [
            "[[4.03541657]]\n"
          ]
        }
      ]
    },
    {
      "cell_type": "code",
      "source": [
        "def logit2prob(logr, X):\n",
        "  log_odds = logr.coef_ * X + logr.intercept_\n",
        "  odds = numpy.exp(log_odds)\n",
        "  probability = odds / (1 + odds)\n",
        "  return(probability)\n",
        "\n",
        "print(logit2prob(logr, X))\n"
      ],
      "metadata": {
        "colab": {
          "base_uri": "https://localhost:8080/"
        },
        "id": "P22vArjHN2w7",
        "outputId": "f7d44a19-6198-4ab6-ae5e-25f536e6977e"
      },
      "execution_count": 3,
      "outputs": [
        {
          "output_type": "stream",
          "name": "stdout",
          "text": [
            "[[0.60749955]\n",
            " [0.19268876]\n",
            " [0.12775886]\n",
            " [0.00955221]\n",
            " [0.08038616]\n",
            " [0.07345637]\n",
            " [0.88362743]\n",
            " [0.77901378]\n",
            " [0.88924409]\n",
            " [0.81293497]\n",
            " [0.57719129]\n",
            " [0.96664243]]\n"
          ]
        }
      ]
    },
    {
      "cell_type": "markdown",
      "source": [
        "3.78 0.61 The probability that a tumor with the size 3.78cm is cancerous is 61%.\n",
        "\n",
        "2.44 0.19 The probability that a tumor with the size 2.44cm is cancerous is 19%.\n",
        "\n",
        "2.09 0.13 The probability that a tumor with the size 2.09cm is cancerous is 13%."
      ],
      "metadata": {
        "id": "uOcUXbiFN6ym"
      }
    }
  ]
}