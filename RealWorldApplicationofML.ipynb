{
  "nbformat": 4,
  "nbformat_minor": 0,
  "metadata": {
    "colab": {
      "provenance": [],
      "authorship_tag": "ABX9TyPRfWe05lg5Qdqna+PMe7jT",
      "include_colab_link": true
    },
    "kernelspec": {
      "name": "python3",
      "display_name": "Python 3"
    },
    "language_info": {
      "name": "python"
    }
  },
  "cells": [
    {
      "cell_type": "markdown",
      "metadata": {
        "id": "view-in-github",
        "colab_type": "text"
      },
      "source": [
        "<a href=\"https://colab.research.google.com/github/sahar-mariam/marvel-level-1-report/blob/main/RealWorldApplicationofML.ipynb\" target=\"_parent\"><img src=\"https://colab.research.google.com/assets/colab-badge.svg\" alt=\"Open In Colab\"/></a>"
      ]
    },
    {
      "cell_type": "markdown",
      "source": [
        "**Task 10 : Exploration of a Real world application of Machine Learning**\n",
        "------------------------------------------------------------------------------------\n",
        "  Machine learning is a field of artificial intelligence that focuses on developing algorithms and models that can learn from data and make predictions or decisions without being explicitly programmed. It involves training a model on a dataset and using that trained model to make predictions or classify new data. It's an exciting technology that enables computers to learn and improve from experience.\n",
        "\n",
        "Machine learning has a wide range of real-world applications! Some common examples include:\n",
        "\n",
        "1. Movie Recommendation system:\n",
        "Machine learning algorithms are used to recommend products, movies, music, and more. based on user preferences and behavior.\n",
        "\n",
        " 1. Fraud detection:\n",
        "Machine learning can help identify patterns and anomalies in financial transactions to detect fraudulent activity.\n",
        "\n",
        " 1. Image and voice recognition:\n",
        "Machine learning models can be trained to recognize and classify images or transcribe speech, supporting applications such as facial recognition and voice assistants.\n",
        "\n",
        " 1. Natural language processing:\n",
        "Machine learning is used to analyze and understand human language, enabling the use of chatbots, language translation, sentiment analysis, and more.\n",
        "\n",
        " 1. Health care:\n",
        "Machine learning is applied to medical imaging for disease diagnosis, patient outcome prediction, and personalized medicine.\n",
        "\n",
        "  1. Self-propelled vehicle:\n",
        "Machine learning plays an important role in self-driving cars, allowing them to perceive and make decisions based on their environment.\n",
        "\n",
        "As a topic for my case study, i chose facial recognition using Machine Learning algorithms. A very popular application of ML, facial recognition uses trained models that classify/ recognize/ detect images.\n",
        "\n",
        "Facial recognition is all about finding faces in photos using different techniques. There are lots of ways to do this, but it can be hard to tell a face from a bunch of different backgrounds, if it's hidden, or if it's in a bunch of different lighting. This algorithm will be used to identify faces against complicated backgrounds and in different lighting conditions. It could help with surveillance systems that don't let people in, identifying criminals in public places, and even ATM theft.\n",
        "\n",
        "![facialrecog](https://i.ibb.co/M88jpY2/Biometrics-Face-Recognition-How-Does-it-work.jpg)\n",
        "\n",
        "Mathematical Constructs used in Facial Recognition.\n",
        "1. For recognizing that there is a face in the image:\n",
        "  The following is a mathematical formula for facial recognition:\n",
        "\n",
        " `y = mx + b`\n",
        "\n",
        "where y is the predicted facial recognition scoe\n",
        "      x is the input image\n",
        "      m is the slope of the line\n",
        "      b is the y-intercept\n",
        "\n",
        "2. Formula for facial detection:\n",
        "`F(x) = ∑(xi - μi)^2`\n",
        "\n",
        "where:\n",
        "\n",
        "* F(x) is the facial detection score\n",
        "* xi is the value of the ith pixel in the image\n",
        "* μi is the mean value of the ith pixel in the image\n",
        "\n",
        "This formula calculates the sum of the squared differences between each pixel in the image and the mean value of that pixel. The higher the value of F(x), the more likely it is that the image contains a face.\n",
        "\n",
        "This formula can be used to implement a simple facial detection system. However, it is important to note that this formula is not perfect and may not be able to accurately detect faces in all images.\n",
        "\n",
        "`For detection of images among various images:`\n",
        "\n",
        "There are several mathematical formulas that can be used to detect an image among different images.\n",
        "\n",
        " A common approach is to use a similarity measure to compare the input image with each  other image in the dataset. A measure of similarity  can be any function that takes two images as input and outputs a value that indicates how similar the images are.\n",
        "\n",
        " Some common similar measures include:\n",
        "\n",
        "* **Euclidean distance**:\n",
        "The Euclidean distance between two images is the square root of the sum of the squares of the difference between the pixel values ​​of the two images.\n",
        "* **Distance from Manhattan**:\n",
        "The Manhattan distance between two images is the sum of the absolute differences between the pixel values ​​of the two images.\n",
        "* **Calculate cosine similarity**:\n",
        "The cosine similarity between two images is the cosine of the angle between  two vectors with pixel values.\n",
        "\n",
        " Once the similarity measure is selected, it can be used to compare the input image with each  other image in the dataset. The image with the greatest similarity to the input image is then considered to be the detected image.\n",
        "\n",
        " ![facialrecogalgo](https://i.ibb.co/41sDfnW/math-model.jpg)\n",
        "\n",
        "Another approach to image detection is to use machine learning algorithms.\n",
        "\n",
        " Machine learning algorithms can be trained to identify images based on their characteristics. Some popular machine learning algorithms that can be used for image detection include:\n",
        "\n",
        "\n",
        "* **Support Vector Machine (SVM)**:\n",
        "SVM is a type of supervised learning algorithm that can be used to classify images into different categories.\n",
        "\n",
        " * **Decision tree**:\n",
        "  Decision trees are a type of supervised learning algorithm that can be used to classify images based on their characteristics.\n",
        "\n",
        " * **Neural Network**:\n",
        "Neural network is a type of unsupervised learning algorithm that can be used to learn the features of an image.\n",
        "\n",
        " Machine learning algorithms can be trained on an image dataset  and then used to detect images in a new dataset. The accuracy of the image detection algorithm will depend on the size and quality of the training dataset.\n"
      ],
      "metadata": {
        "id": "l94vrNr6qENu"
      }
    }
  ]
}