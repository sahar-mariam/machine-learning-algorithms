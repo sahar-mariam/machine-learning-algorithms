{
  "nbformat": 4,
  "nbformat_minor": 0,
  "metadata": {
    "colab": {
      "provenance": [],
      "authorship_tag": "ABX9TyNGndB6tx1KTJXx4Myz64yK",
      "include_colab_link": true
    },
    "kernelspec": {
      "name": "python3",
      "display_name": "Python 3"
    },
    "language_info": {
      "name": "python"
    }
  },
  "cells": [
    {
      "cell_type": "markdown",
      "metadata": {
        "id": "view-in-github",
        "colab_type": "text"
      },
      "source": [
        "<a href=\"https://colab.research.google.com/github/sahar-mariam/marvel-level-1-report/blob/main/knnscratch.ipynb\" target=\"_parent\"><img src=\"https://colab.research.google.com/assets/colab-badge.svg\" alt=\"Open In Colab\"/></a>"
      ]
    },
    {
      "cell_type": "code",
      "execution_count": 1,
      "metadata": {
        "colab": {
          "base_uri": "https://localhost:8080/",
          "height": 430
        },
        "id": "pAvfuMJXqzfh",
        "outputId": "43d41044-4a39-4381-b619-c7716f306ed6"
      },
      "outputs": [
        {
          "output_type": "display_data",
          "data": {
            "text/plain": [
              "<Figure size 640x480 with 1 Axes>"
            ],
            "image/png": "[encoded data removed]"
          },
          "metadata": {}
        }
      ],
      "source": [
        "#The given code implements a K-nearest neighbors (KNN) algorithm and uses it to classify a dataset.\n",
        "#It creates a KNN class with methods for fitting the model to data, making predictions, and visualizing the results.\n",
        "#The code generates some example data, creates an instance of the KNN class, fits the model to the data, predicts labels for the data, and finally plots the data and predictions using matplotlib.\n",
        "\n",
        "import numpy as np\n",
        "import matplotlib.pyplot as plt\n",
        "\n",
        "class KNN:\n",
        "    def __init__(self, k):\n",
        "        self.k = k\n",
        "\n",
        "    def fit(self, X, y):\n",
        "        self.X = X\n",
        "        self.y = y\n",
        "\n",
        "    def predict(self, X):\n",
        "        y_pred = np.zeros(X.shape[0])\n",
        "        for i in range(X.shape[0]):\n",
        "            distances = np.linalg.norm(X[i] - self.X, axis=1)\n",
        "            nearest_neighbors = np.argsort(distances)[:self.k]\n",
        "            y_pred[i] = np.bincount(self.y[nearest_neighbors]).argmax()\n",
        "        return y_pred\n",
        "\n",
        "# Generate some data\n",
        "X = np.array([[1, 4], [3, 7], [2, 6], [5, 8], [6, 9]])\n",
        "y = np.array([0, 1, 0, 1, 1])\n",
        "\n",
        "# Create a KNN model\n",
        "model = KNN(k=4)\n",
        "\n",
        "# Fit the model to the data\n",
        "model.fit(X, y)\n",
        "\n",
        "# Predict the labels of the data\n",
        "y_pred = model.predict(X)\n",
        "\n",
        "# Plot the data and the predictions\n",
        "plt.scatter(X[:, 0], X[:, 1], c=y)\n",
        "plt.scatter(X[:, 0], X[:, 1], c=y_pred, alpha=0.5)\n",
        "plt.show()"
      ]
    }
  ]
}