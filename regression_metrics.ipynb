{
  "nbformat": 4,
  "nbformat_minor": 0,
  "metadata": {
    "colab": {
      "provenance": [],
      "authorship_tag": "ABX9TyNO0Z8Mra3OgU3FvwIekfyq",
      "include_colab_link": true
    },
    "kernelspec": {
      "name": "python3",
      "display_name": "Python 3"
    },
    "language_info": {
      "name": "python"
    }
  },
  "cells": [
    {
      "cell_type": "markdown",
      "metadata": {
        "id": "view-in-github",
        "colab_type": "text"
      },
      "source": [
        "<a href=\"https://colab.research.google.com/github/sahar-mariam/marvel-level-1-report/blob/main/regression_metrics.ipynb\" target=\"_parent\"><img src=\"https://colab.research.google.com/assets/colab-badge.svg\" alt=\"Open In Colab\"/></a>"
      ]
    },
    {
      "cell_type": "code",
      "source": [
        "import pandas as pd\n",
        "import numpy as np\n",
        "import matplotlib.pyplot as plt\n",
        "from sklearn.preprocessing import LabelEncoder\n",
        "from sklearn.model_selection import train_test_split\n",
        "from sklearn import metrics\n",
        "from sklearn.metrics import roc_auc_score,roc_curve,auc\n",
        "from sklearn.ensemble import RandomForestClassifier,RandomForestRegressor\n"
      ],
      "metadata": {
        "id": "8UMYzPUkKdSn"
      },
      "execution_count": 1,
      "outputs": []
    },
    {
      "cell_type": "markdown",
      "source": [
        "importing data:"
      ],
      "metadata": {
        "id": "eK9x4zqQIC3v"
      }
    },
    {
      "cell_type": "code",
      "source": [
        "train_data_regression = pd.read_csv(r\"/content/train_v9rqX0R.csv\")\n",
        "test_data_regression = pd.read_csv(r\"/content/test_AbJTz2l.csv\")"
      ],
      "metadata": {
        "id": "UXUSG1QqIF57"
      },
      "execution_count": 2,
      "outputs": []
    },
    {
      "cell_type": "markdown",
      "source": [
        "Label Encoding:"
      ],
      "metadata": {
        "id": "vSp3MTogIHQY"
      }
    },
    {
      "cell_type": "code",
      "source": [
        "le = LabelEncoder()\n",
        "for col in train_data_regression:\n",
        "    if train_data_regression[col].dtype == \"object\":\n",
        "        train_data_regression[col] = le.fit_transform(train_data_regression[col])\n",
        "        test_data_regression[col] = le.fit_transform(test_data_regression[col])"
      ],
      "metadata": {
        "id": "eM4tOO-fIKWS"
      },
      "execution_count": 3,
      "outputs": []
    },
    {
      "cell_type": "markdown",
      "source": [
        "Dropping columns with NA's and ID Variable:"
      ],
      "metadata": {
        "id": "8RjSl6-yINhW"
      }
    },
    {
      "cell_type": "code",
      "source": [
        "train_data_regression.drop(['Item_Weight','Item_Identifier'],axis=1,inplace=True)\n",
        "test_data_regression.drop(['Item_Weight','Item_Identifier'],axis=1,inplace=True)"
      ],
      "metadata": {
        "id": "iF03t-5TIRwu"
      },
      "execution_count": 4,
      "outputs": []
    },
    {
      "cell_type": "markdown",
      "source": [
        "Splitting Data:"
      ],
      "metadata": {
        "id": "-3sJrCN6IWJo"
      }
    },
    {
      "cell_type": "code",
      "source": [
        "y = train_data_regression['Item_Outlet_Sales']\n",
        "X = train_data_regression.drop('Item_Outlet_Sales',axis=1)\n",
        "\n",
        "X_Trn,X_Tst,y_Trn,y_Tst = train_test_split(X,y,test_size=0.25,random_state=42)\n",
        "print (X_Trn.shape)\n",
        "print (y_Trn.shape)\n",
        "print (X_Tst.shape)\n",
        "print (y_Tst.shape)"
      ],
      "metadata": {
        "colab": {
          "base_uri": "https://localhost:8080/"
        },
        "id": "mlcLxRwnIc1h",
        "outputId": "4c75b615-afdc-4bc0-dcfb-f3310144a594"
      },
      "execution_count": 5,
      "outputs": [
        {
          "output_type": "stream",
          "name": "stdout",
          "text": [
            "(6392, 9)\n",
            "(6392,)\n",
            "(2131, 9)\n",
            "(2131,)\n"
          ]
        }
      ]
    },
    {
      "cell_type": "markdown",
      "source": [
        "Running RF Model:"
      ],
      "metadata": {
        "id": "0dnKm2eSIm7Z"
      }
    },
    {
      "cell_type": "code",
      "source": [
        "rf = RandomForestRegressor()\n",
        "rf.fit(X_Trn,y_Trn)\n",
        "predict = rf.predict(X_Tst)"
      ],
      "metadata": {
        "id": "BXxDRDeJIokh"
      },
      "execution_count": 6,
      "outputs": []
    },
    {
      "cell_type": "markdown",
      "source": [
        "Mean Absolute Error"
      ],
      "metadata": {
        "id": "3m9s54JaIthM"
      }
    },
    {
      "cell_type": "code",
      "source": [
        "mae = metrics.mean_absolute_error(y_Tst,predict)\n",
        "print (mae)"
      ],
      "metadata": {
        "colab": {
          "base_uri": "https://localhost:8080/"
        },
        "id": "AEWk7YCMIwb3",
        "outputId": "106da201-fd2f-48cf-fb4e-35bd9c77adbf"
      },
      "execution_count": 7,
      "outputs": [
        {
          "output_type": "stream",
          "name": "stdout",
          "text": [
            "764.4058391975599\n"
          ]
        }
      ]
    },
    {
      "cell_type": "markdown",
      "source": [
        "Mean Squared Error"
      ],
      "metadata": {
        "id": "N7ELJC0ZI0Dw"
      }
    },
    {
      "cell_type": "code",
      "source": [
        "mse = metrics.mean_squared_error(y_Tst,predict)\n",
        "print (mse)"
      ],
      "metadata": {
        "colab": {
          "base_uri": "https://localhost:8080/"
        },
        "id": "DtJqsl6KI3Fu",
        "outputId": "c9464ec3-9d1c-485f-b598-947d3eb8a91c"
      },
      "execution_count": 8,
      "outputs": [
        {
          "output_type": "stream",
          "name": "stdout",
          "text": [
            "1216468.628776493\n"
          ]
        }
      ]
    },
    {
      "cell_type": "markdown",
      "source": [
        "Root Mean Squared Error"
      ],
      "metadata": {
        "id": "b52IuEO1I6LA"
      }
    },
    {
      "cell_type": "code",
      "source": [
        "rmse = np.sqrt(metrics.mean_squared_error(y_Tst,predict))\n",
        "print (rmse)"
      ],
      "metadata": {
        "colab": {
          "base_uri": "https://localhost:8080/"
        },
        "id": "yUA-BqrhI963",
        "outputId": "207bd2aa-54ba-43e9-c522-993603fc89ac"
      },
      "execution_count": 9,
      "outputs": [
        {
          "output_type": "stream",
          "name": "stdout",
          "text": [
            "1102.936366603483\n"
          ]
        }
      ]
    },
    {
      "cell_type": "markdown",
      "source": [
        "Root Mean Squared Log Error"
      ],
      "metadata": {
        "id": "__uhbBHtJAcA"
      }
    },
    {
      "cell_type": "code",
      "source": [
        "y_log = np.log1p(train_data_regression['Item_Outlet_Sales'])\n",
        "X_log = train_data_regression.drop('Item_Outlet_Sales',axis=1)\n",
        "\n",
        "X_Train,X_Test,y_Train,y_Test = train_test_split(X_log,y_log,test_size=0.25,random_state=42)\n",
        "print (X_Train.shape)\n",
        "print (y_Train.shape)\n",
        "print (X_Test.shape)\n",
        "print (y_Test.shape)\n",
        "\n",
        "rf = RandomForestRegressor()\n",
        "rf.fit(X_Train,y_Train)\n",
        "predict_log = rf.predict(X_Test)"
      ],
      "metadata": {
        "colab": {
          "base_uri": "https://localhost:8080/"
        },
        "id": "0G0_MXfTJEf7",
        "outputId": "6a7ed771-9c60-4eaf-f707-6d09f600dda3"
      },
      "execution_count": 10,
      "outputs": [
        {
          "output_type": "stream",
          "name": "stdout",
          "text": [
            "(6392, 9)\n",
            "(6392,)\n",
            "(2131, 9)\n",
            "(2131,)\n"
          ]
        }
      ]
    },
    {
      "cell_type": "code",
      "source": [
        "rmsle = np.sqrt(metrics.mean_squared_error(y_Test,predict_log))\n",
        "print (rmsle)"
      ],
      "metadata": {
        "colab": {
          "base_uri": "https://localhost:8080/"
        },
        "id": "AOBhA-CWJNnv",
        "outputId": "eca41d58-a19f-48a2-a88c-ab5b3597170e"
      },
      "execution_count": 11,
      "outputs": [
        {
          "output_type": "stream",
          "name": "stdout",
          "text": [
            "0.5485278702615007\n"
          ]
        }
      ]
    },
    {
      "cell_type": "markdown",
      "source": [
        "MAPE"
      ],
      "metadata": {
        "id": "qDkF4XGjJUH_"
      }
    },
    {
      "cell_type": "code",
      "source": [
        "mape = metrics.mean_absolute_percentage_error(y_Tst,predict)\n",
        "print (mape)\n"
      ],
      "metadata": {
        "colab": {
          "base_uri": "https://localhost:8080/"
        },
        "id": "XRTRM8AGJU_H",
        "outputId": "ac32731d-4fc2-45d2-c3c5-e205837ffad4"
      },
      "execution_count": 12,
      "outputs": [
        {
          "output_type": "stream",
          "name": "stdout",
          "text": [
            "0.5843853950425756\n"
          ]
        }
      ]
    },
    {
      "cell_type": "markdown",
      "source": [
        "R Squared"
      ],
      "metadata": {
        "id": "_9o4rvC0JYXV"
      }
    },
    {
      "cell_type": "code",
      "source": [
        "r_squared = metrics.r2_score(y_Tst,predict)\n",
        "print (r_squared)"
      ],
      "metadata": {
        "colab": {
          "base_uri": "https://localhost:8080/"
        },
        "id": "Tx_EaQNyJYmO",
        "outputId": "eccb2254-4dcd-4ad2-8549-c04b27fa8a4a"
      },
      "execution_count": 13,
      "outputs": [
        {
          "output_type": "stream",
          "name": "stdout",
          "text": [
            "0.5590871174791123\n"
          ]
        }
      ]
    },
    {
      "cell_type": "markdown",
      "source": [
        "Adjusted R Squared"
      ],
      "metadata": {
        "id": "Q46feChkJgbZ"
      }
    },
    {
      "cell_type": "code",
      "source": [
        "len_dataset = len(X_Tst)\n",
        "r2 = r_squared\n",
        "p = len(X_Tst.columns)\n",
        "adjusted_r_squared = 1 - (((1-r2)*(len_dataset-1))/(len_dataset-p-1))\n",
        "print (adjusted_r_squared)"
      ],
      "metadata": {
        "colab": {
          "base_uri": "https://localhost:8080/"
        },
        "id": "fVSJp_QMJkE1",
        "outputId": "24affdaa-165e-44fc-982f-c853fd81a330"
      },
      "execution_count": 14,
      "outputs": [
        {
          "output_type": "stream",
          "name": "stdout",
          "text": [
            "0.5572162000143843\n"
          ]
        }
      ]
    }
  ]
}